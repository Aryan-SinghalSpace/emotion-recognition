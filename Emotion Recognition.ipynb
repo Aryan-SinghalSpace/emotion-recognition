{
 "cells": [
  {
   "cell_type": "code",
   "execution_count": 1,
   "id": "802bbe86",
   "metadata": {},
   "outputs": [
    {
     "name": "stdout",
     "output_type": "stream",
     "text": [
      "Requirement already satisfied: soundfile in d:\\aryan\\anaconda\\lib\\site-packages (0.12.1)\n",
      "Requirement already satisfied: numpy in d:\\aryan\\anaconda\\lib\\site-packages (1.21.5)\n",
      "Requirement already satisfied: sklearn in d:\\aryan\\anaconda\\lib\\site-packages (0.0.post1)\n",
      "Requirement already satisfied: pyaudio in d:\\aryan\\anaconda\\lib\\site-packages (0.2.13)\n",
      "Requirement already satisfied: cffi>=1.0 in d:\\aryan\\anaconda\\lib\\site-packages (from soundfile) (1.15.0)\n",
      "Requirement already satisfied: pycparser in d:\\aryan\\anaconda\\lib\\site-packages (from cffi>=1.0->soundfile) (2.21)\n",
      "Note: you may need to restart the kernel to use updated packages.\n"
     ]
    }
   ],
   "source": [
    "pip install soundfile numpy sklearn pyaudio\n"
   ]
  },
  {
   "cell_type": "code",
   "execution_count": 2,
   "id": "2c65ee70",
   "metadata": {},
   "outputs": [],
   "source": [
    "import librosa\n",
    "import soundfile\n",
    "import os, glob, pickle\n",
    "import numpy as np\n",
    "from sklearn.model_selection import train_test_split\n",
    "from sklearn.neural_network import MLPClassifier\n",
    "from sklearn.metrics import accuracy_score"
   ]
  },
  {
   "cell_type": "code",
   "execution_count": 4,
   "id": "7ed0bbd9",
   "metadata": {},
   "outputs": [],
   "source": [
    "#Features (mfcc=Mel Frequency Cepstral Coefficient, represents the short-term power spectrum of a sound, \n",
    "#chroma=Pertains to the 12 different pitch classes, \n",
    "#mel= Mel Spectrogram Frequency) from a sound file\n",
    "def extract_feature(file_name, mfcc, chroma, mel):\n",
    "    with soundfile.SoundFile(file_name) as sound_file:\n",
    "        X = sound_file.read(dtype=\"float32\")\n",
    "        sample_rate=sound_file.samplerate\n",
    "        if chroma:\n",
    "            stft=np.abs(librosa.stft(X))\n",
    "        result=np.array([])\n",
    "        if mfcc:\n",
    "            mfccs=np.mean(librosa.feature.mfcc(y=X, sr=sample_rate, n_mfcc=40).T, axis=0)\n",
    "            result=np.hstack((result, mfccs))\n",
    "        if chroma:\n",
    "            chroma=np.mean(librosa.feature.chroma_stft(S=stft, sr=sample_rate).T,axis=0)\n",
    "            result=np.hstack((result, chroma))\n",
    "        if mel:\n",
    "            mel=np.mean(librosa.feature.melspectrogram(y=X,sr=sample_rate).T,axis=0)\n",
    "            result=np.hstack((result, mel))\n",
    "        return result"
   ]
  },
  {
   "cell_type": "code",
   "execution_count": 5,
   "id": "87d88a1b",
   "metadata": {},
   "outputs": [],
   "source": [
    "#emotions defined and required emotions that are to be compared specified\n",
    "emotions={\n",
    "  '01':'neutral',\n",
    "  '02':'calm',\n",
    "  '03':'happy',\n",
    "  '04':'sad',\n",
    "  '05':'angry',\n",
    "  '06':'fearful',\n",
    "  '07':'disgust',\n",
    "  '08':'surprised'\n",
    "}\n",
    "\n",
    "observed_emotions=['calm', 'happy', 'fearful', 'disgust']"
   ]
  },
  {
   "cell_type": "code",
   "execution_count": 7,
   "id": "94236bc5",
   "metadata": {},
   "outputs": [],
   "source": [
    "#Loading and extracting features for each sound file\n",
    "def load_data(test_size=0.2):\n",
    "    x,y=[],[]\n",
    "    for file in glob.glob(\"C:\\\\Users\\\\aryan\\\\speech-emotion-recognition-ravdess-data\\\\Actor_*\\\\*.wav\"):#Path of data set on users computer \n",
    "        file_name=os.path.basename(file)\n",
    "        emotion=emotions[file_name.split(\"-\")[2]]\n",
    "        if emotion not in observed_emotions:\n",
    "            continue\n",
    "        feature=extract_feature(file, mfcc=True, chroma=True, mel=True)\n",
    "        x.append(feature)\n",
    "        y.append(emotion)\n",
    "    return train_test_split(np.array(x), y, test_size=test_size, random_state=9)"
   ]
  },
  {
   "cell_type": "code",
   "execution_count": 29,
   "id": "631d9d06",
   "metadata": {},
   "outputs": [
    {
     "name": "stdout",
     "output_type": "stream",
     "text": [
      "(120, 40)\n",
      "Features extracted: 180\n"
     ]
    }
   ],
   "source": [
    "# Spliting the dataset\n",
    "x_train,x_test,y_train,y_test=load_data(test_size=0.25)#here data percentage can be changed \n",
    "# Shape of the training and testing datasets\n",
    "print((x_train.shape[0], x_test.shape[0]))\n",
    "#the number of features extracted\n",
    "print(f'Features extracted: {x_train.shape[1]}')"
   ]
  },
  {
   "cell_type": "code",
   "execution_count": 30,
   "id": "4d99b3f3",
   "metadata": {},
   "outputs": [],
   "source": [
    "#Initializeing the Multi Layer Perceptron Classifier\n",
    "#using mlpclassifier which connects to a neural network \n",
    "model=MLPClassifier(alpha=0.01, batch_size=16, epsilon=1e-08, hidden_layer_sizes=(300,), learning_rate='adaptive', max_iter=500)"
   ]
  },
  {
   "cell_type": "code",
   "execution_count": 31,
   "id": "ec065a8b",
   "metadata": {
    "scrolled": true
   },
   "outputs": [
    {
     "data": {
      "text/plain": [
       "MLPClassifier(alpha=0.01, batch_size=16, hidden_layer_sizes=(300,),\n",
       "              learning_rate='adaptive', max_iter=500)"
      ]
     },
     "execution_count": 31,
     "metadata": {},
     "output_type": "execute_result"
    }
   ],
   "source": [
    "#Training the model\n",
    "model.fit(x_train,y_train)"
   ]
  },
  {
   "cell_type": "code",
   "execution_count": 32,
   "id": "3ce0782c",
   "metadata": {},
   "outputs": [],
   "source": [
    "#Prediction for the test set\n",
    "y_pred=model.predict(x_test)"
   ]
  },
  {
   "cell_type": "code",
   "execution_count": 33,
   "id": "b28e6a27",
   "metadata": {},
   "outputs": [
    {
     "name": "stdout",
     "output_type": "stream",
     "text": [
      "Accuracy: 65.00%\n"
     ]
    }
   ],
   "source": [
    "#Calculating the accuracy of our model\n",
    "accuracy=accuracy_score(y_true=y_test, y_pred=y_pred)\n",
    "#Printing the accuracy\n",
    "print(\"Accuracy: {:.2f}%\".format(accuracy*100))"
   ]
  },
  {
   "cell_type": "code",
   "execution_count": 34,
   "id": "409f2ba5",
   "metadata": {},
   "outputs": [],
   "source": [
    "#acuuracy increased as more refined data set used \n",
    "# model helpful in medical field with patients with autism or other neurological issues that negate \n",
    "# the ability of the person to recognise emotions \n",
    "# as further development done a user friendly and easy to use model can be generated .\n",
    "#thank you"
   ]
  },
  {
   "cell_type": "code",
   "execution_count": null,
   "id": "5a0559c3",
   "metadata": {},
   "outputs": [],
   "source": []
  }
 ],
 "metadata": {
  "kernelspec": {
   "display_name": "Python 3 (ipykernel)",
   "language": "python",
   "name": "python3"
  },
  "language_info": {
   "codemirror_mode": {
    "name": "ipython",
    "version": 3
   },
   "file_extension": ".py",
   "mimetype": "text/x-python",
   "name": "python",
   "nbconvert_exporter": "python",
   "pygments_lexer": "ipython3",
   "version": "3.9.12"
  }
 },
 "nbformat": 4,
 "nbformat_minor": 5
}
